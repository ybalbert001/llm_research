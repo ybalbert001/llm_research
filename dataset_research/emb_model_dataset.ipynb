{
 "cells": [
  {
   "cell_type": "markdown",
   "id": "9a30dc9d-3b38-478e-b4a3-1739d0bbd722",
   "metadata": {},
   "source": [
    "### 安装huggingface 数据集"
   ]
  },
  {
   "cell_type": "code",
   "execution_count": null,
   "id": "cbdb3b6a-e444-41c0-86e0-163e5955af7d",
   "metadata": {
    "tags": []
   },
   "outputs": [],
   "source": [
    "!pip install datasets"
   ]
  },
  {
   "cell_type": "markdown",
   "id": "ab807ac1-4445-4766-895c-45f5dafd8929",
   "metadata": {},
   "source": [
    "## 英文embedding数据集 https://huggingface.co/embedding-data (问答数据占比高)\n",
    "- embedding-data/WikiAnswers\n",
    "- embedding-data/PAQ_pairs\n",
    "- embedding-data/Amazon-QA\n",
    "- ...\n",
    "\n",
    "https://huggingface.co/sentence-transformers/multi-qa-MiniLM-L6-dot-v1#training"
   ]
  },
  {
   "cell_type": "code",
   "execution_count": 9,
   "id": "b8b7a0a1-937a-4009-b146-f4f17dd0de36",
   "metadata": {
    "tags": []
   },
   "outputs": [
    {
     "name": "stderr",
     "output_type": "stream",
     "text": [
      "Found cached dataset json (/root/.cache/huggingface/datasets/embedding-data___json/embedding-data--Amazon-QA-3fd9b544ea102c73/0.0.0/e347ab1c932092252e717ff3f949105a4dd28b27e842dd53157d2f72e276c2e4)\n"
     ]
    },
    {
     "data": {
      "text/plain": [
       "[{'query': 'does this fit the z2x version? Thx',\n",
       "  'pos': ['I am not 100% sure. It appears that it does based on the size of the torch housing. I have the 9p and it fits perfectly. Compare the two and see. Otherwise it is a great product and has lasted 2 years so far wearing every day on my duty belt. Gets lots of inquiries and compliments.',\n",
       "   'Yes. The retention clip on this holster holds the bezel, the shape of the flashlight shaft is irrelevant. I would suggest getting a different holster however, since the retention clip is plastic and does not work very well.']},\n",
       " {'query': 'What material are these dumbbells made out of?',\n",
       "  'pos': [\"They say cast iron.. I don't know the exact chemical compound breakdown but they seem like cast.\",\n",
       "   'Here is the official CAP site that gives measurements and weight or you can contact them--http://www.capbarbell.com/Bars/1inch.html']},\n",
       " {'query': 'What is the length and width of this scooter in inches?',\n",
       "  'pos': ['below are all the products specs- We are authorized dealers and offer fast shipping- Also 1 year warranty FREE Phillips Health care he EW-36 mobility scooter is a 3 wheel high-power mobility scooter using a transaxle brushless electric motor. At full power the EW-36 can reach speed up to 18 mph which makes it easily the fastest mobility scooter on the market! Up to 45 mile range per single charge! Also included a reverse switch, armrest and large storage basket. The EW-36 comes equipped with a digital anti-theft alarm and two rear shock absorbers on the frame. The EW-36 is a great scooter for both fun and transportation. COLOR: Red, Silver, Blue, Orange, Camo POWER: Electric WATTS: 500 Watt MOTOR TYPE: Transaxle differential brushless motor AMPS: 20 AH VOLTS: 48 Volt DIMENSIONS: 61\"*29\"*41\" BATTERIES: 48 volt lead acid maintenance free battery TIRE SIZE: 16\"/2.5\" CHARGER: Smart charger included SPEED: Up to 18mph DISTANCE: Up to 45 miles per charge (distance varies by riders weight , terrain, road surface etc.) THROTTLE TYPE: Variable speed control- Twist Throttle KEY START: Yes BRAKING SYSTEM: Front and rear braking system DRIVE SYSTEM: Brushless motor HEAD LIGHT: Yes CARTON SIZE: Shipped on a pallet SHIPPING WEIGHT: 280 lbs NET WEIGHT: 200 lbs ELECTRIC LIGHT: Yes BATTERY INDICATOR: Yes STORAGE BASKET: Yes SHOCK ABSORBER: Two rear shock absorber on the frame ALARM: Anti-theft alarm']},\n",
       " {'query': 'how much bigger is the medium versus the baby gund spunky?',\n",
       "  'pos': ['These are no longer at my house as they went home with my granddaughter, but the medium is significantly larger than the small. She was about one year old and she and I both liked the medium sized one the best',\n",
       "   'The medium spunky is about 2-3 times as large as the baby spunky. The medium size is a little big for a newborn but my kid started sleeping with his medium \"dogbo\" around 6mo old. He is 3 now, we are on the 3rd dog. They hold up really well, we just buy extras for daycare and grandmas house. He still has the original one!',\n",
       "   'We have the little one that rattles and this medium puppy is at least 4 to 5 times larger than that one. My kids are obsessed with these puppies and this is one of their faves. :)']},\n",
       " {'query': 'Does it work with t-mobile',\n",
       "  'pos': ['Yes but it almost caught on fire charging in my daughters bed. I DONT RECOMMEND THIS PHONE!!!!']}]"
      ]
     },
     "execution_count": 9,
     "metadata": {},
     "output_type": "execute_result"
    }
   ],
   "source": [
    "from datasets import load_dataset\n",
    "\n",
    "dataset = load_dataset(\"embedding-data/Amazon-QA\", split=\"train\")\n",
    "dataset.to_list()[:5]"
   ]
  },
  {
   "cell_type": "markdown",
   "id": "c0cc5658-594e-4c9f-aab7-8f2c4f465064",
   "metadata": {},
   "source": [
    "## 中文embedding数据集 \n",
    "+ https://huggingface.co/datasets/shibing624/nli_zh (对称数据)\n",
    "    - STS-B\n",
    "    - ATEC (金融)\n",
    "    - BQ (金融)\n",
    "    - LCQMC\n",
    "    - PAWSX\n",
    "+ https://huggingface.co/datasets/alexwww94/SimCLUE (对称数据)\n",
    "    -  alexwww94/SimCLUE\n",
    "+ https://huggingface.co/datasets/mkqa (问答数据)\n",
    "    - mkqa"
   ]
  },
  {
   "cell_type": "code",
   "execution_count": 29,
   "id": "a34a8380-a62c-441b-964c-28c5ede4355d",
   "metadata": {
    "tags": []
   },
   "outputs": [
    {
     "name": "stderr",
     "output_type": "stream",
     "text": [
      "Found cached dataset nli_zh (/root/.cache/huggingface/datasets/shibing624___nli_zh/STS-B/1.0.0/65b555276ee420c801e1c9eb830db959e37f42fa60c68c8b07a4448b8c436706)\n"
     ]
    },
    {
     "data": {
      "text/plain": [
       "[{'sentence1': '一架飞机要起飞了。', 'sentence2': '一架飞机正在起飞。', 'label': 5},\n",
       " {'sentence1': '一个男人在吹一支大笛子。', 'sentence2': '一个人在吹长笛。', 'label': 3},\n",
       " {'sentence1': '一个人正把切碎的奶酪撒在比萨饼上。',\n",
       "  'sentence2': '一个男人正在把切碎的奶酪撒在一块未煮好的比萨饼上。',\n",
       "  'label': 3},\n",
       " {'sentence1': '三个人在下棋。', 'sentence2': '两个人在下棋。', 'label': 2},\n",
       " {'sentence1': '一个人在拉大提琴。', 'sentence2': '一个坐着的人正在拉大提琴。', 'label': 4},\n",
       " {'sentence1': '有些人在战斗。', 'sentence2': '两个人在打架。', 'label': 4},\n",
       " {'sentence1': '一个男人在抽烟。', 'sentence2': '一个男人在滑冰。', 'label': 0},\n",
       " {'sentence1': '那人在弹钢琴。', 'sentence2': '那人在弹吉他。', 'label': 1},\n",
       " {'sentence1': '一个男人在弹吉他和唱歌。', 'sentence2': '一位女士正在弹着一把原声吉他，唱着歌。', 'label': 2},\n",
       " {'sentence1': '一个人正把一只猫扔到天花板上。', 'sentence2': '一个人把一只猫扔在天花板上。', 'label': 5}]"
      ]
     },
     "execution_count": 29,
     "metadata": {},
     "output_type": "execute_result"
    }
   ],
   "source": [
    "from datasets import load_dataset\n",
    "\n",
    "dataset = load_dataset(\"shibing624/nli_zh\", name=\"STS-B\", split=\"train\")\n",
    "dataset.to_list()[:10]"
   ]
  },
  {
   "cell_type": "code",
   "execution_count": 30,
   "id": "3c5d212a-381f-4863-993b-1d1110d3d440",
   "metadata": {
    "tags": []
   },
   "outputs": [
    {
     "name": "stdout",
     "output_type": "stream",
     "text": [
      "Downloading and preparing dataset nli_zh/ATEC to /root/.cache/huggingface/datasets/shibing624___nli_zh/ATEC/1.0.0/65b555276ee420c801e1c9eb830db959e37f42fa60c68c8b07a4448b8c436706...\n"
     ]
    },
    {
     "data": {
      "application/vnd.jupyter.widget-view+json": {
       "model_id": "",
       "version_major": 2,
       "version_minor": 0
      },
      "text/plain": [
       "Generating train split: 0 examples [00:00, ? examples/s]"
      ]
     },
     "metadata": {},
     "output_type": "display_data"
    },
    {
     "data": {
      "application/vnd.jupyter.widget-view+json": {
       "model_id": "",
       "version_major": 2,
       "version_minor": 0
      },
      "text/plain": [
       "Generating validation split: 0 examples [00:00, ? examples/s]"
      ]
     },
     "metadata": {},
     "output_type": "display_data"
    },
    {
     "data": {
      "application/vnd.jupyter.widget-view+json": {
       "model_id": "",
       "version_major": 2,
       "version_minor": 0
      },
      "text/plain": [
       "Generating test split: 0 examples [00:00, ? examples/s]"
      ]
     },
     "metadata": {},
     "output_type": "display_data"
    },
    {
     "name": "stdout",
     "output_type": "stream",
     "text": [
      "Dataset nli_zh downloaded and prepared to /root/.cache/huggingface/datasets/shibing624___nli_zh/ATEC/1.0.0/65b555276ee420c801e1c9eb830db959e37f42fa60c68c8b07a4448b8c436706. Subsequent calls will reuse this data.\n"
     ]
    },
    {
     "data": {
      "text/plain": [
       "[{'sentence1': '我要撤销蚂蚁借呗', 'sentence2': '蚂蚁借呗不用好不好关闭', 'label': 0},\n",
       " {'sentence1': '为什么我上次借呗看见开通了 今天又没有了', 'sentence2': '我刚开通的借呗怎没有了', 'label': 0},\n",
       " {'sentence1': '为什么借呗的借款时间上限变成***个月了？原来有***个月',\n",
       "  'sentence2': '蚂蚁借呗的借款日期为什么不是***个月了',\n",
       "  'label': 0},\n",
       " {'sentence1': '外卖可以使用花呗么', 'sentence2': '叫饿了么外卖怎么看能不能用花呗', 'label': 0},\n",
       " {'sentence1': '花呗收钱码怎么用不了', 'sentence2': '开通收款码后我的花呗怎么用不了了', 'label': 0},\n",
       " {'sentence1': '花呗怎么提前还款',\n",
       "  'sentence2': '我已经提前还款了 我现在不想还那么早 怎么让花呗退回来',\n",
       "  'label': 0},\n",
       " {'sentence1': '邮政储蓄银行的储蓄卡不能用来还花呗吗',\n",
       "  'sentence2': '邮政银行的储蓄卡可以还花呗吗',\n",
       "  'label': 1},\n",
       " {'sentence1': '退款到了花呗，怎么取回卡', 'sentence2': '花呗退款怎么还没退到余额', 'label': 0},\n",
       " {'sentence1': '可用花呗额度不足', 'sentence2': '花呗额度不足也可以支付', 'label': 0},\n",
       " {'sentence1': '我已还清借呗的钱，怎么样才能再次使用借呗',\n",
       "  'sentence2': '到底要怎么使用才能尽快使用借呗',\n",
       "  'label': 0}]"
      ]
     },
     "execution_count": 30,
     "metadata": {},
     "output_type": "execute_result"
    }
   ],
   "source": [
    "dataset = load_dataset(\"shibing624/nli_zh\", name=\"ATEC\", split=\"train\")\n",
    "dataset.to_list()[:10]"
   ]
  },
  {
   "cell_type": "code",
   "execution_count": 31,
   "id": "f50691d6-cff5-4aef-825f-31018860ab61",
   "metadata": {
    "tags": []
   },
   "outputs": [
    {
     "name": "stdout",
     "output_type": "stream",
     "text": [
      "Downloading and preparing dataset nli_zh/BQ to /root/.cache/huggingface/datasets/shibing624___nli_zh/BQ/1.0.0/65b555276ee420c801e1c9eb830db959e37f42fa60c68c8b07a4448b8c436706...\n"
     ]
    },
    {
     "data": {
      "application/vnd.jupyter.widget-view+json": {
       "model_id": "",
       "version_major": 2,
       "version_minor": 0
      },
      "text/plain": [
       "Generating train split: 0 examples [00:00, ? examples/s]"
      ]
     },
     "metadata": {},
     "output_type": "display_data"
    },
    {
     "data": {
      "application/vnd.jupyter.widget-view+json": {
       "model_id": "",
       "version_major": 2,
       "version_minor": 0
      },
      "text/plain": [
       "Generating validation split: 0 examples [00:00, ? examples/s]"
      ]
     },
     "metadata": {},
     "output_type": "display_data"
    },
    {
     "data": {
      "application/vnd.jupyter.widget-view+json": {
       "model_id": "",
       "version_major": 2,
       "version_minor": 0
      },
      "text/plain": [
       "Generating test split: 0 examples [00:00, ? examples/s]"
      ]
     },
     "metadata": {},
     "output_type": "display_data"
    },
    {
     "name": "stdout",
     "output_type": "stream",
     "text": [
      "Dataset nli_zh downloaded and prepared to /root/.cache/huggingface/datasets/shibing624___nli_zh/BQ/1.0.0/65b555276ee420c801e1c9eb830db959e37f42fa60c68c8b07a4448b8c436706. Subsequent calls will reuse this data.\n"
     ]
    },
    {
     "data": {
      "text/plain": [
       "[{'sentence1': '用微信都6年，微信没有微粒贷功能', 'sentence2': '4。  号码来微粒贷', 'label': 0},\n",
       " {'sentence1': '微信消费算吗', 'sentence2': '还有多少钱没还', 'label': 0},\n",
       " {'sentence1': '交易密码忘记了找回密码绑定的手机卡也掉了',\n",
       "  'sentence2': '怎么最近安全老是要改密码呢好麻烦',\n",
       "  'label': 0},\n",
       " {'sentence1': '你好 我昨天晚上申请的没有打电话给我 今天之内一定会打吗？',\n",
       "  'sentence2': '什么时候可以到账',\n",
       "  'label': 0},\n",
       " {'sentence1': '\"“微粒贷开通\"\"\"', 'sentence2': '你好，我的微粒贷怎么没有开通呢', 'label': 0},\n",
       " {'sentence1': '为什么借款后一直没有给我回拨电话',\n",
       "  'sentence2': '怎么申请借款后没有打电话过来呢！',\n",
       "  'label': 1},\n",
       " {'sentence1': '为什么我每次都提前还款了最后却不给我贷款了',\n",
       "  'sentence2': '30号我一次性还清可以不',\n",
       "  'label': 0},\n",
       " {'sentence1': '请问一天是否都是限定只能转入或转出都是五万。',\n",
       "  'sentence2': '微众多少可以赎回短期理财',\n",
       "  'label': 0},\n",
       " {'sentence1': '微粒咨询电话号码多少', 'sentence2': '你们的人工客服电话是多少', 'label': 1},\n",
       " {'sentence1': '已经在银行换了新预留号码。', 'sentence2': '我现在换了电话号码，这个需要更换吗', 'label': 1}]"
      ]
     },
     "execution_count": 31,
     "metadata": {},
     "output_type": "execute_result"
    }
   ],
   "source": [
    "dataset = load_dataset(\"shibing624/nli_zh\", name=\"BQ\", split=\"train\")\n",
    "dataset.to_list()[:10]"
   ]
  },
  {
   "cell_type": "code",
   "execution_count": 33,
   "id": "eda82532-e3bc-4541-9a14-d453dfe448f3",
   "metadata": {
    "tags": []
   },
   "outputs": [
    {
     "name": "stderr",
     "output_type": "stream",
     "text": [
      "Found cached dataset nli_zh (/root/.cache/huggingface/datasets/shibing624___nli_zh/LCQMC/1.0.0/65b555276ee420c801e1c9eb830db959e37f42fa60c68c8b07a4448b8c436706)\n"
     ]
    },
    {
     "data": {
      "text/plain": [
       "[{'sentence1': '喜欢打篮球的男生喜欢什么样的女生', 'sentence2': '爱打篮球的男生喜欢什么样的女生', 'label': 1},\n",
       " {'sentence1': '我手机丢了，我想换个手机', 'sentence2': '我想买个新手机，求推荐', 'label': 1},\n",
       " {'sentence1': '大家觉得她好看吗', 'sentence2': '大家觉得跑男好看吗？', 'label': 0},\n",
       " {'sentence1': '求秋色之空漫画全集', 'sentence2': '求秋色之空全集漫画', 'label': 1},\n",
       " {'sentence1': '晚上睡觉带着耳机听音乐有什么害处吗？', 'sentence2': '孕妇可以戴耳机听音乐吗?', 'label': 0},\n",
       " {'sentence1': '学日语软件手机上的', 'sentence2': '手机学日语的软件', 'label': 1},\n",
       " {'sentence1': '打印机和电脑怎样连接，该如何设置',\n",
       "  'sentence2': '如何把带无线的电脑连接到打印机上',\n",
       "  'label': 0},\n",
       " {'sentence1': '侠盗飞车罪恶都市怎样改车', 'sentence2': '侠盗飞车罪恶都市怎么改车', 'label': 1},\n",
       " {'sentence1': '什么花一年四季都开', 'sentence2': '什么花一年四季都是开的', 'label': 1},\n",
       " {'sentence1': '看图猜一电影名', 'sentence2': '看图猜电影！', 'label': 1}]"
      ]
     },
     "execution_count": 33,
     "metadata": {},
     "output_type": "execute_result"
    }
   ],
   "source": [
    "dataset = load_dataset(\"shibing624/nli_zh\", name=\"LCQMC\", split=\"train\")\n",
    "dataset.to_list()[:10]"
   ]
  },
  {
   "cell_type": "code",
   "execution_count": 34,
   "id": "90bb5e59-5976-4f6d-81cb-4522098f42c0",
   "metadata": {
    "tags": []
   },
   "outputs": [
    {
     "name": "stdout",
     "output_type": "stream",
     "text": [
      "Downloading and preparing dataset nli_zh/PAWSX to /root/.cache/huggingface/datasets/shibing624___nli_zh/PAWSX/1.0.0/65b555276ee420c801e1c9eb830db959e37f42fa60c68c8b07a4448b8c436706...\n"
     ]
    },
    {
     "data": {
      "application/vnd.jupyter.widget-view+json": {
       "model_id": "",
       "version_major": 2,
       "version_minor": 0
      },
      "text/plain": [
       "Generating train split: 0 examples [00:00, ? examples/s]"
      ]
     },
     "metadata": {},
     "output_type": "display_data"
    },
    {
     "data": {
      "application/vnd.jupyter.widget-view+json": {
       "model_id": "",
       "version_major": 2,
       "version_minor": 0
      },
      "text/plain": [
       "Generating validation split: 0 examples [00:00, ? examples/s]"
      ]
     },
     "metadata": {},
     "output_type": "display_data"
    },
    {
     "data": {
      "application/vnd.jupyter.widget-view+json": {
       "model_id": "",
       "version_major": 2,
       "version_minor": 0
      },
      "text/plain": [
       "Generating test split: 0 examples [00:00, ? examples/s]"
      ]
     },
     "metadata": {},
     "output_type": "display_data"
    },
    {
     "name": "stdout",
     "output_type": "stream",
     "text": [
      "Dataset nli_zh downloaded and prepared to /root/.cache/huggingface/datasets/shibing624___nli_zh/PAWSX/1.0.0/65b555276ee420c801e1c9eb830db959e37f42fa60c68c8b07a4448b8c436706. Subsequent calls will reuse this data.\n"
     ]
    },
    {
     "data": {
      "text/plain": [
       "[{'sentence1': '1560年10月，他在巴黎秘密会见了英国大使Nicolas Throckmorton，要求他通过苏格兰返回英国。',\n",
       "  'sentence2': '1560年10月，他在巴黎秘密会见了英国大使尼古拉斯·斯罗克莫顿，并要求他通过英格兰返回苏格兰的护照。',\n",
       "  'label': 0},\n",
       " {'sentence1': '1975年的NBA赛季 -  76赛季是全美篮球协会的第30个赛季。',\n",
       "  'sentence2': '1975-76赛季的全国篮球协会是NBA的第30个赛季。',\n",
       "  'label': 1},\n",
       " {'sentence1': '还有具体的讨论，公众形象辩论和项目讨论。',\n",
       "  'sentence2': '还有公开讨论，特定档案讨论和项目讨论。',\n",
       "  'label': 0},\n",
       " {'sentence1': '当可以保持相当的流速时，结果很高。',\n",
       "  'sentence2': '当可以保持可比较的流速时，结果很高。',\n",
       "  'label': 1},\n",
       " {'sentence1': '它是Akmola地区Zerendi区的所在地。',\n",
       "  'sentence2': '它是Akmola地区Zerendi区的所在地。',\n",
       "  'label': 1},\n",
       " {'sentence1': '威廉亨利亨利哈曼于1828年2月17日出生在弗吉尼亚州的韦恩斯伯勒，他的父母是刘易斯和莎莉（加伯）哈曼。',\n",
       "  'sentence2': '威廉亨利哈曼于1828年2月17日出生于弗吉尼亚州韦恩斯伯勒。他的父母是刘易斯和莎莉（加伯）哈曼。',\n",
       "  'label': 1},\n",
       " {'sentence1': 'Bullion Express  - 概念正在德克萨斯州达拉斯市普雷斯顿中心开业。',\n",
       "  'sentence2': '2011-DGSE Bullion Express概念推出，新店在德克萨斯州达拉斯的普雷斯顿中心开业',\n",
       "  'label': 0},\n",
       " {'sentence1': '使用离散量的概率公式1，条件公式2和公式3任何实数，Tsallis定义为熵为',\n",
       "  'sentence2': '给定一组离散的概率公式_ 1，条件公式_ 2，公式_ 3任意实数，Tsallis熵定义为',\n",
       "  'label': 1},\n",
       " {'sentence1': '苏联在奥斯陆设有一个大使馆，在巴伦支堡设有一个领事馆，而挪威则在莫斯科保留了一个信息。',\n",
       "  'sentence2': '苏联在莫斯科设有大使馆，在巴伦支堡设有领事馆，而挪威则在奥斯陆保留了一个信息。',\n",
       "  'label': 0},\n",
       " {'sentence1': '词汇甚至通过离开葡萄牙定居者与一些澳门人和中国定居者来到巴西。',\n",
       "  'sentence2': '通过让澳门人和中国定居者与一些葡萄牙定居者离开，词汇甚至到了巴西。',\n",
       "  'label': 0}]"
      ]
     },
     "execution_count": 34,
     "metadata": {},
     "output_type": "execute_result"
    }
   ],
   "source": [
    "dataset = load_dataset(\"shibing624/nli_zh\", name=\"PAWSX\", split=\"train\")\n",
    "dataset.to_list()[:10]"
   ]
  },
  {
   "cell_type": "markdown",
   "id": "cbd7b6b6-5723-4e2b-8527-6a04726b635b",
   "metadata": {
    "tags": []
   },
   "source": [
    "## 中文embedding数据集 https://huggingface.co/datasets/mkqa (QA问答非对称数据)"
   ]
  },
  {
   "cell_type": "code",
   "execution_count": 7,
   "id": "fe6d544f-7081-479f-80cb-84df3807138a",
   "metadata": {
    "tags": []
   },
   "outputs": [
    {
     "name": "stderr",
     "output_type": "stream",
     "text": [
      "Found cached dataset mkqa (/root/.cache/huggingface/datasets/mkqa/mkqa/1.0.0/e16ed11fbd9bb1f117edefd14f8ba1d0b50e2815e9e1d114a0b8f1192da36451)\n"
     ]
    },
    {
     "data": {
      "application/vnd.jupyter.widget-view+json": {
       "model_id": "eb340638aee048ad8575317507ebf05d",
       "version_major": 2,
       "version_minor": 0
      },
      "text/plain": [
       "  0%|          | 0/1 [00:00<?, ?it/s]"
      ]
     },
     "metadata": {},
     "output_type": "display_data"
    },
    {
     "name": "stderr",
     "output_type": "stream",
     "text": [
      "Loading cached processed dataset at /root/.cache/huggingface/datasets/mkqa/mkqa/1.0.0/e16ed11fbd9bb1f117edefd14f8ba1d0b50e2815e9e1d114a0b8f1192da36451/cache-5c074a23135230c1.arrow\n"
     ]
    },
    {
     "name": "stdout",
     "output_type": "stream",
     "text": [
      "query: love you like there's no tomorrow是谁演唱的\n",
      " answer: 克里斯·扬\n",
      "query: 《i hear you knocking but you can't come in》是谁演唱的\n",
      " answer: 戴维·埃德蒙兹 \n",
      "query: 经the voice节目出道的有谁\n",
      " answer: 小约翰·德·莫尔\n",
      "query: 歌曲oh what a night是谁演唱的\n",
      " answer: 四季乐队\n",
      "query: i want to be with you everywhere是谁唱的\n",
      " answer: 佛利伍麦克\n",
      "query: 谁在《耶稣基督超级巨星》中扮演玛丽·玛格达莱妮\n",
      " answer: 伊冯·爱利曼\n",
      "query: 圣经中的lamentations的是谁写的\n",
      " answer: 耶利米\n",
      "query: instagram上粉丝最多的是谁\n",
      " answer: 克里斯蒂亚诺·罗纳尔多\n",
      "query: 办公室电视剧的哪一集是吐槽大会\n",
      " answer: 缓解压力\n",
      "query: 谁生产了世界上最多的开心果\n",
      " answer: 伊朗\n"
     ]
    }
   ],
   "source": [
    "dataset = load_dataset('mkqa')['train']\n",
    "ds = dataset.filter(lambda x: x[\"answers\"]['zh_cn'][0]['type'] == 0)\n",
    "\n",
    "for item in ds.to_list()[:10]:\n",
    "    query = item['queries']['zh_cn']\n",
    "    answer = item['answers']['zh_cn'][0]['text']\n",
    "    print(\"query: {}\\n answer: {}\".format(query, answer))"
   ]
  },
  {
   "cell_type": "markdown",
   "id": "75fd74ca-6ab8-47c8-a7f4-4560ff14a59d",
   "metadata": {},
   "source": [
    "##  **多语言版本数据集可以参见 https://huggingface.co/datasets/stsb_multi_mt**"
   ]
  }
 ],
 "metadata": {
  "availableInstances": [
   {
    "_defaultOrder": 0,
    "_isFastLaunch": true,
    "category": "General purpose",
    "gpuNum": 0,
    "hideHardwareSpecs": false,
    "memoryGiB": 4,
    "name": "ml.t3.medium",
    "vcpuNum": 2
   },
   {
    "_defaultOrder": 1,
    "_isFastLaunch": false,
    "category": "General purpose",
    "gpuNum": 0,
    "hideHardwareSpecs": false,
    "memoryGiB": 8,
    "name": "ml.t3.large",
    "vcpuNum": 2
   },
   {
    "_defaultOrder": 2,
    "_isFastLaunch": false,
    "category": "General purpose",
    "gpuNum": 0,
    "hideHardwareSpecs": false,
    "memoryGiB": 16,
    "name": "ml.t3.xlarge",
    "vcpuNum": 4
   },
   {
    "_defaultOrder": 3,
    "_isFastLaunch": false,
    "category": "General purpose",
    "gpuNum": 0,
    "hideHardwareSpecs": false,
    "memoryGiB": 32,
    "name": "ml.t3.2xlarge",
    "vcpuNum": 8
   },
   {
    "_defaultOrder": 4,
    "_isFastLaunch": true,
    "category": "General purpose",
    "gpuNum": 0,
    "hideHardwareSpecs": false,
    "memoryGiB": 8,
    "name": "ml.m5.large",
    "vcpuNum": 2
   },
   {
    "_defaultOrder": 5,
    "_isFastLaunch": false,
    "category": "General purpose",
    "gpuNum": 0,
    "hideHardwareSpecs": false,
    "memoryGiB": 16,
    "name": "ml.m5.xlarge",
    "vcpuNum": 4
   },
   {
    "_defaultOrder": 6,
    "_isFastLaunch": false,
    "category": "General purpose",
    "gpuNum": 0,
    "hideHardwareSpecs": false,
    "memoryGiB": 32,
    "name": "ml.m5.2xlarge",
    "vcpuNum": 8
   },
   {
    "_defaultOrder": 7,
    "_isFastLaunch": false,
    "category": "General purpose",
    "gpuNum": 0,
    "hideHardwareSpecs": false,
    "memoryGiB": 64,
    "name": "ml.m5.4xlarge",
    "vcpuNum": 16
   },
   {
    "_defaultOrder": 8,
    "_isFastLaunch": false,
    "category": "General purpose",
    "gpuNum": 0,
    "hideHardwareSpecs": false,
    "memoryGiB": 128,
    "name": "ml.m5.8xlarge",
    "vcpuNum": 32
   },
   {
    "_defaultOrder": 9,
    "_isFastLaunch": false,
    "category": "General purpose",
    "gpuNum": 0,
    "hideHardwareSpecs": false,
    "memoryGiB": 192,
    "name": "ml.m5.12xlarge",
    "vcpuNum": 48
   },
   {
    "_defaultOrder": 10,
    "_isFastLaunch": false,
    "category": "General purpose",
    "gpuNum": 0,
    "hideHardwareSpecs": false,
    "memoryGiB": 256,
    "name": "ml.m5.16xlarge",
    "vcpuNum": 64
   },
   {
    "_defaultOrder": 11,
    "_isFastLaunch": false,
    "category": "General purpose",
    "gpuNum": 0,
    "hideHardwareSpecs": false,
    "memoryGiB": 384,
    "name": "ml.m5.24xlarge",
    "vcpuNum": 96
   },
   {
    "_defaultOrder": 12,
    "_isFastLaunch": false,
    "category": "General purpose",
    "gpuNum": 0,
    "hideHardwareSpecs": false,
    "memoryGiB": 8,
    "name": "ml.m5d.large",
    "vcpuNum": 2
   },
   {
    "_defaultOrder": 13,
    "_isFastLaunch": false,
    "category": "General purpose",
    "gpuNum": 0,
    "hideHardwareSpecs": false,
    "memoryGiB": 16,
    "name": "ml.m5d.xlarge",
    "vcpuNum": 4
   },
   {
    "_defaultOrder": 14,
    "_isFastLaunch": false,
    "category": "General purpose",
    "gpuNum": 0,
    "hideHardwareSpecs": false,
    "memoryGiB": 32,
    "name": "ml.m5d.2xlarge",
    "vcpuNum": 8
   },
   {
    "_defaultOrder": 15,
    "_isFastLaunch": false,
    "category": "General purpose",
    "gpuNum": 0,
    "hideHardwareSpecs": false,
    "memoryGiB": 64,
    "name": "ml.m5d.4xlarge",
    "vcpuNum": 16
   },
   {
    "_defaultOrder": 16,
    "_isFastLaunch": false,
    "category": "General purpose",
    "gpuNum": 0,
    "hideHardwareSpecs": false,
    "memoryGiB": 128,
    "name": "ml.m5d.8xlarge",
    "vcpuNum": 32
   },
   {
    "_defaultOrder": 17,
    "_isFastLaunch": false,
    "category": "General purpose",
    "gpuNum": 0,
    "hideHardwareSpecs": false,
    "memoryGiB": 192,
    "name": "ml.m5d.12xlarge",
    "vcpuNum": 48
   },
   {
    "_defaultOrder": 18,
    "_isFastLaunch": false,
    "category": "General purpose",
    "gpuNum": 0,
    "hideHardwareSpecs": false,
    "memoryGiB": 256,
    "name": "ml.m5d.16xlarge",
    "vcpuNum": 64
   },
   {
    "_defaultOrder": 19,
    "_isFastLaunch": false,
    "category": "General purpose",
    "gpuNum": 0,
    "hideHardwareSpecs": false,
    "memoryGiB": 384,
    "name": "ml.m5d.24xlarge",
    "vcpuNum": 96
   },
   {
    "_defaultOrder": 20,
    "_isFastLaunch": false,
    "category": "General purpose",
    "gpuNum": 0,
    "hideHardwareSpecs": true,
    "memoryGiB": 0,
    "name": "ml.geospatial.interactive",
    "supportedImageNames": [
     "sagemaker-geospatial-v1-0"
    ],
    "vcpuNum": 0
   },
   {
    "_defaultOrder": 21,
    "_isFastLaunch": true,
    "category": "Compute optimized",
    "gpuNum": 0,
    "hideHardwareSpecs": false,
    "memoryGiB": 4,
    "name": "ml.c5.large",
    "vcpuNum": 2
   },
   {
    "_defaultOrder": 22,
    "_isFastLaunch": false,
    "category": "Compute optimized",
    "gpuNum": 0,
    "hideHardwareSpecs": false,
    "memoryGiB": 8,
    "name": "ml.c5.xlarge",
    "vcpuNum": 4
   },
   {
    "_defaultOrder": 23,
    "_isFastLaunch": false,
    "category": "Compute optimized",
    "gpuNum": 0,
    "hideHardwareSpecs": false,
    "memoryGiB": 16,
    "name": "ml.c5.2xlarge",
    "vcpuNum": 8
   },
   {
    "_defaultOrder": 24,
    "_isFastLaunch": false,
    "category": "Compute optimized",
    "gpuNum": 0,
    "hideHardwareSpecs": false,
    "memoryGiB": 32,
    "name": "ml.c5.4xlarge",
    "vcpuNum": 16
   },
   {
    "_defaultOrder": 25,
    "_isFastLaunch": false,
    "category": "Compute optimized",
    "gpuNum": 0,
    "hideHardwareSpecs": false,
    "memoryGiB": 72,
    "name": "ml.c5.9xlarge",
    "vcpuNum": 36
   },
   {
    "_defaultOrder": 26,
    "_isFastLaunch": false,
    "category": "Compute optimized",
    "gpuNum": 0,
    "hideHardwareSpecs": false,
    "memoryGiB": 96,
    "name": "ml.c5.12xlarge",
    "vcpuNum": 48
   },
   {
    "_defaultOrder": 27,
    "_isFastLaunch": false,
    "category": "Compute optimized",
    "gpuNum": 0,
    "hideHardwareSpecs": false,
    "memoryGiB": 144,
    "name": "ml.c5.18xlarge",
    "vcpuNum": 72
   },
   {
    "_defaultOrder": 28,
    "_isFastLaunch": false,
    "category": "Compute optimized",
    "gpuNum": 0,
    "hideHardwareSpecs": false,
    "memoryGiB": 192,
    "name": "ml.c5.24xlarge",
    "vcpuNum": 96
   },
   {
    "_defaultOrder": 29,
    "_isFastLaunch": true,
    "category": "Accelerated computing",
    "gpuNum": 1,
    "hideHardwareSpecs": false,
    "memoryGiB": 16,
    "name": "ml.g4dn.xlarge",
    "vcpuNum": 4
   },
   {
    "_defaultOrder": 30,
    "_isFastLaunch": false,
    "category": "Accelerated computing",
    "gpuNum": 1,
    "hideHardwareSpecs": false,
    "memoryGiB": 32,
    "name": "ml.g4dn.2xlarge",
    "vcpuNum": 8
   },
   {
    "_defaultOrder": 31,
    "_isFastLaunch": false,
    "category": "Accelerated computing",
    "gpuNum": 1,
    "hideHardwareSpecs": false,
    "memoryGiB": 64,
    "name": "ml.g4dn.4xlarge",
    "vcpuNum": 16
   },
   {
    "_defaultOrder": 32,
    "_isFastLaunch": false,
    "category": "Accelerated computing",
    "gpuNum": 1,
    "hideHardwareSpecs": false,
    "memoryGiB": 128,
    "name": "ml.g4dn.8xlarge",
    "vcpuNum": 32
   },
   {
    "_defaultOrder": 33,
    "_isFastLaunch": false,
    "category": "Accelerated computing",
    "gpuNum": 4,
    "hideHardwareSpecs": false,
    "memoryGiB": 192,
    "name": "ml.g4dn.12xlarge",
    "vcpuNum": 48
   },
   {
    "_defaultOrder": 34,
    "_isFastLaunch": false,
    "category": "Accelerated computing",
    "gpuNum": 1,
    "hideHardwareSpecs": false,
    "memoryGiB": 256,
    "name": "ml.g4dn.16xlarge",
    "vcpuNum": 64
   },
   {
    "_defaultOrder": 35,
    "_isFastLaunch": false,
    "category": "Accelerated computing",
    "gpuNum": 1,
    "hideHardwareSpecs": false,
    "memoryGiB": 61,
    "name": "ml.p3.2xlarge",
    "vcpuNum": 8
   },
   {
    "_defaultOrder": 36,
    "_isFastLaunch": false,
    "category": "Accelerated computing",
    "gpuNum": 4,
    "hideHardwareSpecs": false,
    "memoryGiB": 244,
    "name": "ml.p3.8xlarge",
    "vcpuNum": 32
   },
   {
    "_defaultOrder": 37,
    "_isFastLaunch": false,
    "category": "Accelerated computing",
    "gpuNum": 8,
    "hideHardwareSpecs": false,
    "memoryGiB": 488,
    "name": "ml.p3.16xlarge",
    "vcpuNum": 64
   },
   {
    "_defaultOrder": 38,
    "_isFastLaunch": false,
    "category": "Accelerated computing",
    "gpuNum": 8,
    "hideHardwareSpecs": false,
    "memoryGiB": 768,
    "name": "ml.p3dn.24xlarge",
    "vcpuNum": 96
   },
   {
    "_defaultOrder": 39,
    "_isFastLaunch": false,
    "category": "Memory Optimized",
    "gpuNum": 0,
    "hideHardwareSpecs": false,
    "memoryGiB": 16,
    "name": "ml.r5.large",
    "vcpuNum": 2
   },
   {
    "_defaultOrder": 40,
    "_isFastLaunch": false,
    "category": "Memory Optimized",
    "gpuNum": 0,
    "hideHardwareSpecs": false,
    "memoryGiB": 32,
    "name": "ml.r5.xlarge",
    "vcpuNum": 4
   },
   {
    "_defaultOrder": 41,
    "_isFastLaunch": false,
    "category": "Memory Optimized",
    "gpuNum": 0,
    "hideHardwareSpecs": false,
    "memoryGiB": 64,
    "name": "ml.r5.2xlarge",
    "vcpuNum": 8
   },
   {
    "_defaultOrder": 42,
    "_isFastLaunch": false,
    "category": "Memory Optimized",
    "gpuNum": 0,
    "hideHardwareSpecs": false,
    "memoryGiB": 128,
    "name": "ml.r5.4xlarge",
    "vcpuNum": 16
   },
   {
    "_defaultOrder": 43,
    "_isFastLaunch": false,
    "category": "Memory Optimized",
    "gpuNum": 0,
    "hideHardwareSpecs": false,
    "memoryGiB": 256,
    "name": "ml.r5.8xlarge",
    "vcpuNum": 32
   },
   {
    "_defaultOrder": 44,
    "_isFastLaunch": false,
    "category": "Memory Optimized",
    "gpuNum": 0,
    "hideHardwareSpecs": false,
    "memoryGiB": 384,
    "name": "ml.r5.12xlarge",
    "vcpuNum": 48
   },
   {
    "_defaultOrder": 45,
    "_isFastLaunch": false,
    "category": "Memory Optimized",
    "gpuNum": 0,
    "hideHardwareSpecs": false,
    "memoryGiB": 512,
    "name": "ml.r5.16xlarge",
    "vcpuNum": 64
   },
   {
    "_defaultOrder": 46,
    "_isFastLaunch": false,
    "category": "Memory Optimized",
    "gpuNum": 0,
    "hideHardwareSpecs": false,
    "memoryGiB": 768,
    "name": "ml.r5.24xlarge",
    "vcpuNum": 96
   },
   {
    "_defaultOrder": 47,
    "_isFastLaunch": false,
    "category": "Accelerated computing",
    "gpuNum": 1,
    "hideHardwareSpecs": false,
    "memoryGiB": 16,
    "name": "ml.g5.xlarge",
    "vcpuNum": 4
   },
   {
    "_defaultOrder": 48,
    "_isFastLaunch": false,
    "category": "Accelerated computing",
    "gpuNum": 1,
    "hideHardwareSpecs": false,
    "memoryGiB": 32,
    "name": "ml.g5.2xlarge",
    "vcpuNum": 8
   },
   {
    "_defaultOrder": 49,
    "_isFastLaunch": false,
    "category": "Accelerated computing",
    "gpuNum": 1,
    "hideHardwareSpecs": false,
    "memoryGiB": 64,
    "name": "ml.g5.4xlarge",
    "vcpuNum": 16
   },
   {
    "_defaultOrder": 50,
    "_isFastLaunch": false,
    "category": "Accelerated computing",
    "gpuNum": 1,
    "hideHardwareSpecs": false,
    "memoryGiB": 128,
    "name": "ml.g5.8xlarge",
    "vcpuNum": 32
   },
   {
    "_defaultOrder": 51,
    "_isFastLaunch": false,
    "category": "Accelerated computing",
    "gpuNum": 1,
    "hideHardwareSpecs": false,
    "memoryGiB": 256,
    "name": "ml.g5.16xlarge",
    "vcpuNum": 64
   },
   {
    "_defaultOrder": 52,
    "_isFastLaunch": false,
    "category": "Accelerated computing",
    "gpuNum": 4,
    "hideHardwareSpecs": false,
    "memoryGiB": 192,
    "name": "ml.g5.12xlarge",
    "vcpuNum": 48
   },
   {
    "_defaultOrder": 53,
    "_isFastLaunch": false,
    "category": "Accelerated computing",
    "gpuNum": 4,
    "hideHardwareSpecs": false,
    "memoryGiB": 384,
    "name": "ml.g5.24xlarge",
    "vcpuNum": 96
   },
   {
    "_defaultOrder": 54,
    "_isFastLaunch": false,
    "category": "Accelerated computing",
    "gpuNum": 8,
    "hideHardwareSpecs": false,
    "memoryGiB": 768,
    "name": "ml.g5.48xlarge",
    "vcpuNum": 192
   },
   {
    "_defaultOrder": 55,
    "_isFastLaunch": false,
    "category": "Accelerated computing",
    "gpuNum": 8,
    "hideHardwareSpecs": false,
    "memoryGiB": 1152,
    "name": "ml.p4d.24xlarge",
    "vcpuNum": 96
   },
   {
    "_defaultOrder": 56,
    "_isFastLaunch": false,
    "category": "Accelerated computing",
    "gpuNum": 8,
    "hideHardwareSpecs": false,
    "memoryGiB": 1152,
    "name": "ml.p4de.24xlarge",
    "vcpuNum": 96
   }
  ],
  "instance_type": "ml.m5.large",
  "kernelspec": {
   "display_name": "Python 3 (Data Science 3.0)",
   "language": "python",
   "name": "python3__SAGEMAKER_INTERNAL__arn:aws:sagemaker:us-west-2:236514542706:image/sagemaker-data-science-310-v1"
  },
  "language_info": {
   "codemirror_mode": {
    "name": "ipython",
    "version": 3
   },
   "file_extension": ".py",
   "mimetype": "text/x-python",
   "name": "python",
   "nbconvert_exporter": "python",
   "pygments_lexer": "ipython3",
   "version": "3.10.6"
  }
 },
 "nbformat": 4,
 "nbformat_minor": 5
}
