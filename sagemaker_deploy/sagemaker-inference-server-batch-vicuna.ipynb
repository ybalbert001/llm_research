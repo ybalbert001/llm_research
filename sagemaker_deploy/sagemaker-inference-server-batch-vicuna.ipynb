{
 "cells": [
  {
   "attachments": {},
   "cell_type": "markdown",
   "id": "1ae65fec",
   "metadata": {},
   "source": [
    "# Deploy the finetuned vicuna model on Amazon SageMaker with djl server batch"
   ]
  },
  {
   "attachments": {},
   "cell_type": "markdown",
   "id": "e2407531",
   "metadata": {},
   "source": [
    "## Create a SageMaker Model for Deployment\n",
    "As a first step, we'll import the relevant libraries and configure several global variables such as the hosting image that will be used nd the S3 location of our model artifacts"
   ]
  },
  {
   "cell_type": "code",
   "execution_count": null,
   "id": "5806a0f1",
   "metadata": {
    "tags": []
   },
   "outputs": [],
   "source": [
    "import sagemaker\n",
    "from sagemaker.model import Model\n",
    "from sagemaker import serializers, deserializers\n",
    "from sagemaker import image_uris\n",
    "import boto3\n",
    "import os\n",
    "import time\n",
    "import json\n",
    "import jinja2\n",
    "from pathlib import Path"
   ]
  },
  {
   "cell_type": "code",
   "execution_count": null,
   "id": "24862c4a",
   "metadata": {
    "tags": []
   },
   "outputs": [],
   "source": [
    "role = sagemaker.get_execution_role()  # execution role for the endpoint\n",
    "sess = sagemaker.session.Session()  # sagemaker session for interacting with different AWS APIs\n",
    "bucket = sess.default_bucket()  # bucket to house artifacts\n",
    "\n",
    "region = sess._region_name # region name of the current SageMaker Studio environment\n",
    "account_id = sess.account_id()  # account_id of the current SageMaker Studio environment\n",
    "\n",
    "s3_client = boto3.client(\"s3\") # client to intreract with S3 API\n",
    "sm_client = boto3.client(\"sagemaker\")  # client to intreract with SageMaker\n",
    "smr_client = boto3.client(\"sagemaker-runtime\") # client to intreract with SageMaker Endpoints\n",
    "jinja_env = jinja2.Environment() # jinja environment to generate model configuration templates"
   ]
  },
  {
   "cell_type": "code",
   "execution_count": null,
   "id": "38930529",
   "metadata": {
    "tags": []
   },
   "outputs": [],
   "source": [
    "# lookup the inference image uri based on our current region\n",
    "djl_inference_image_uri = (\n",
    "    f\"763104351884.dkr.ecr.{region}.amazonaws.com/djl-inference:0.21.0-deepspeed0.8.3-cu117\"\n",
    ")"
   ]
  },
  {
   "cell_type": "code",
   "execution_count": null,
   "id": "d00f2f2b",
   "metadata": {
    "tags": []
   },
   "outputs": [],
   "source": [
    "pretrained_model_location = \"s3://sagemaker-us-west-2-687912291502/llama/output/2023-05-10-12-43-02/llama_out/\"# Change to the model artifact path in S3 which we get from the fine tune job\n",
    "print(f\"Pretrained model will be downloaded from ---- > {pretrained_model_location}\")"
   ]
  },
  {
   "attachments": {},
   "cell_type": "markdown",
   "id": "29aec093",
   "metadata": {},
   "source": [
    "## Build the inference contianer image"
   ]
  },
  {
   "cell_type": "code",
   "execution_count": null,
   "id": "7b814406",
   "metadata": {
    "tags": []
   },
   "outputs": [],
   "source": [
    "%%writefile Dockerfile.inference\n",
    "## You should change below region code to the region you used, here sample is use us-west-2\n",
    "From 763104351884.dkr.ecr.us-west-2.amazonaws.com/djl-inference:0.21.0-deepspeed0.8.3-cu117\n",
    "\n",
    "ENV LANG=C.UTF-8\n",
    "ENV PYTHONUNBUFFERED=TRUE\n",
    "ENV PYTHONDONTWRITEBYTECODE=TRUE\n",
    "\n",
    "## Install transfomers version which support LLaMaTokenizer\n",
    "#RUN python3 -m pip install git+https://github.com/huggingface/transformers.git@68d640f7c368bcaaaecfc678f11908ebbd3d6176\n",
    "## Install transfomers version which support vicuna v1.1 LLaMaTokenizer\n",
    "#RUN python3 -m pip install transformers==4.29.0\n",
    "RUN python3 -m pip install transformers==4.28.1\n",
    "\n",
    "\n",
    "## Make all local GPUs visible\n",
    "ENV NVIDIA_VISIBLE_DEVICES=\"all\""
   ]
  },
  {
   "cell_type": "code",
   "execution_count": null,
   "id": "a8fa36ad-55b5-4227-9f5e-f5f690da5dcf",
   "metadata": {
    "tags": []
   },
   "outputs": [],
   "source": [
    "!docker pull 763104351884.dkr.ecr.us-west-2.amazonaws.com/djl-inference:0.21.0-deepspeed0.8.3-cu117"
   ]
  },
  {
   "cell_type": "code",
   "execution_count": null,
   "id": "465b7a51",
   "metadata": {
    "tags": []
   },
   "outputs": [],
   "source": [
    "## You should change below region code to the region you used, here sample is use us-west-2\n",
    "!aws ecr get-login-password --region us-west-2 | docker login --username AWS --password-stdin 763104351884.dkr.ecr.us-west-2.amazonaws.com"
   ]
  },
  {
   "cell_type": "code",
   "execution_count": null,
   "id": "351f761d",
   "metadata": {
    "tags": []
   },
   "outputs": [],
   "source": [
    "## define repo name, should contain *sagemaker* in the name\n",
    "repo_name = \"sagemaker-vicuna-inference-severbatch-demo\""
   ]
  },
  {
   "cell_type": "code",
   "execution_count": null,
   "id": "4a58a7ce",
   "metadata": {
    "collapsed": true,
    "jupyter": {
     "outputs_hidden": true
    },
    "tags": []
   },
   "outputs": [],
   "source": [
    "%%script env repo_name=$repo_name bash\n",
    "\n",
    "#!/usr/bin/env bash\n",
    "\n",
    "# This script shows how to build the Docker image and push it to ECR to be ready for use\n",
    "# by SageMaker.\n",
    "\n",
    "# The argument to this script is the image name. This will be used as the image on the local\n",
    "# machine and combined with the account and region to form the repository name for ECR.\n",
    "# The name of our algorithm\n",
    "algorithm_name=${repo_name}\n",
    "\n",
    "account=$(aws sts get-caller-identity --query Account --output text)\n",
    "\n",
    "# Get the region defined in the current configuration (default to us-west-2 if none defined)\n",
    "region=$(aws configure get region)\n",
    "region=${region:-us-west-2}\n",
    "\n",
    "fullname=\"${account}.dkr.ecr.${region}.amazonaws.com/${algorithm_name}:latest\"\n",
    "\n",
    "# If the repository doesn't exist in ECR, create it.\n",
    "aws ecr describe-repositories --repository-names \"${algorithm_name}\" > /dev/null 2>&1\n",
    "\n",
    "if [ $? -ne 0 ]\n",
    "then\n",
    "    aws ecr create-repository --repository-name \"${algorithm_name}\" > /dev/null\n",
    "fi\n",
    "\n",
    "# Get the login command from ECR and execute it directly\n",
    "aws ecr get-login-password --region ${region}|docker login --username AWS --password-stdin ${fullname}\n",
    "\n",
    "# Build the docker image locally with the image name and then push it to ECR\n",
    "# with the full name.\n",
    "\n",
    "docker build -t ${algorithm_name} -f Dockerfile.inference .\n",
    "docker tag ${algorithm_name} ${fullname}\n",
    "\n",
    "docker push ${fullname}"
   ]
  },
  {
   "cell_type": "code",
   "execution_count": null,
   "id": "84497325",
   "metadata": {
    "tags": []
   },
   "outputs": [],
   "source": [
    "## The image uri which is build and pushed above\n",
    "inference_image_uri = \"{}.dkr.ecr.{}.amazonaws.com/{}:latest\".format(account_id, region, repo_name)\n",
    "inference_image_uri"
   ]
  },
  {
   "attachments": {},
   "cell_type": "markdown",
   "id": "01e33506",
   "metadata": {},
   "source": [
    "## Deploying a Large Language Model using deepspeed engine\n",
    "The DJL Inference Image which we will be utilizing ships with a number of built-in inference handlers for a wide variety of tasks including:\n",
    "- `text-generation`\n",
    "- `question-answering`\n",
    "- `text-classification`\n",
    "- `token-classification`\n",
    "\n",
    "You can refer to this [GitRepo](https://github.com/deepjavalibrary/djl-serving/tree/master/engines/python/setup/djl_python) for a list of additional handlers and available NLP Tasks. <br>\n",
    "These handlers can be utilized as is without having to write any custom inference code. We simply need to create a `serving.properties` text file with our desired hosting options and package it up into a `tar.gz` artifact.\n",
    "\n",
    "Lets take a look at the `serving.properties` file that we'll be using for our first example"
   ]
  },
  {
   "cell_type": "code",
   "execution_count": null,
   "id": "e3570119",
   "metadata": {
    "tags": []
   },
   "outputs": [],
   "source": [
    "!mkdir deepspeed_src"
   ]
  },
  {
   "cell_type": "code",
   "execution_count": null,
   "id": "33c253cd",
   "metadata": {
    "tags": []
   },
   "outputs": [],
   "source": [
    "%%writefile deepspeed_src/serving.template\n",
    "engine=DeepSpeed\n",
    "option.entryPoint=model.py\n",
    "option.tensor_parallel_degree=4\n",
    "option.model_id=helloollel/vicuna-7b\n",
    "batch_size=16\n",
    "max_batch_delay=100\n",
    "#option.task=text-generation\n",
    "#option.device_map=auto\n",
    "option.load_in_8bit=TRUE"
   ]
  },
  {
   "cell_type": "code",
   "execution_count": null,
   "id": "d1746e87-ef56-414d-a1ea-b57db076d7bb",
   "metadata": {
    "tags": []
   },
   "outputs": [],
   "source": [
    "%%writefile deepspeed_src/model.py\n",
    "from djl_python import Input, Output\n",
    "import os\n",
    "import logging\n",
    "import math\n",
    "import deepspeed\n",
    "import torch\n",
    "import torch.distributed as dist\n",
    "import sys\n",
    "import subprocess\n",
    "import time\n",
    "import transformers\n",
    "from transformers import pipeline, AutoModelForCausalLM, AutoTokenizer\n",
    "from transformers.models.llama.tokenization_llama import LlamaTokenizer\n",
    "import time\n",
    "\n",
    "print(\"transformers version==\"+transformers.__version__)\n",
    "\n",
    "predictor = None\n",
    "\n",
    "#for deepspeed engine\n",
    "\n",
    "def load_model(properties):\n",
    "    tensor_parallel = properties[\"tensor_parallel_degree\"]\n",
    "    model_location = properties['model_dir']\n",
    "    if \"model_id\" in properties:\n",
    "        model_location = properties['model_id']\n",
    "    #logging.info(f\"Loading model in {model_location}\")\n",
    "    \n",
    "    print(\"----------tensor parallel is {0}---------\".format(tensor_parallel))\n",
    "    \n",
    "    #model_location = \"EleutherAI/gpt-neo-2.7B\"\n",
    "    logging.info(f\"Loading model in {model_location}\")\n",
    "    print(f\"Loading model in {model_location}\")\n",
    "    model = AutoModelForCausalLM.from_pretrained(model_location, torch_dtype=torch.float16)\n",
    "    tokenizer = LlamaTokenizer.from_pretrained(model_location, torch_dtype=torch.float16)\n",
    "\n",
    "    print(\"----------model dtype is {0}---------\".format(model.dtype))\n",
    "    model = deepspeed.init_inference(\n",
    "        model,\n",
    "        mp_size=tensor_parallel,\n",
    "        dtype=model.dtype,\n",
    "        # dtype=torch.half,\n",
    "        # dtype=torch.int8,\n",
    "        replace_method=\"auto\",\n",
    "        replace_with_kernel_inject=True,\n",
    "        #replace_method=\"auto\",\n",
    "        #replace_with_kernel_inject=True,\n",
    "    )\n",
    "    \n",
    "    local_rank = int(os.getenv(\"LOCAL_RANK\", \"0\"))\n",
    "    generator = pipeline(\n",
    "        task=\"text-generation\", model=model, tokenizer=tokenizer, device=local_rank, use_cache=True\n",
    "    )\n",
    "    generator.tokenizer.pad_token_id = model.config.eos_token_id\n",
    "    return generator, model, tokenizer\n",
    "\n",
    "\n",
    "def handle(inputs: Input) -> None:\n",
    "    global predictor, model, tokenizer\n",
    "    try:\n",
    "        if not predictor:\n",
    "            predictor,model,tokenizer = load_model(inputs.get_properties())\n",
    "\n",
    "        print(inputs)\n",
    "        if inputs.is_empty():\n",
    "            # Model server makes an empty call to warmup the model on startup\n",
    "            return None\n",
    "        \n",
    "        if inputs.is_batch():\n",
    "            batch_size = inputs.get_batch_size()\n",
    "            logging.info(f\"Dynamic batching size: {batch_size}.\")\n",
    "            batch = inputs.get_batches()\n",
    "            print(batch)\n",
    "            tmp_inputs = []\n",
    "            for _, item in enumerate(batch):\n",
    "                tmp_item = item.get_as_json()\n",
    "                tmp_inputs.append(tmp_item.get(\"inputs\"))\n",
    "                \n",
    "                ##use the unified parameters for batch prediction###\n",
    "                params = tmp_item.get(\"parameters\",{})\n",
    "            \n",
    "            t1 = time.time()\n",
    "            result = predictor(tmp_inputs, batch_size=batch_size, **params)\n",
    "            t2 = time.time()\n",
    "            print(\"Batched: the inference time is {} sec, and size is {}.\".format(t2 - t1, batch_size))\n",
    "            outputs = Output()\n",
    "            for i in range(len(result)):\n",
    "                outputs.add(result[i], key=\"generate_text\", batch_index=i)\n",
    "            return outputs\n",
    "        else:\n",
    "            inputs = inputs.get_as_json()\n",
    "            if not inputs.get(\"inputs\"):\n",
    "                return Output().add_as_json({\"code\":-1,\"msg\":\"input field can't be null\"})\n",
    "\n",
    "\n",
    "            #input data\n",
    "            data = inputs.get(\"inputs\")\n",
    "            params = inputs.get(\"parameters\",{})\n",
    "            print(params)\n",
    "            \n",
    "            #predictor\n",
    "            t1 = time.time()\n",
    "            result = predictor(data, **params)\n",
    "            t2 = time.time()\n",
    "            print(\"the inference time is {} sec.\".format(t2 - t1))\n",
    "            #return\n",
    "            return Output().add({\"code\":0,\"msg\":\"ok\",\"data\":result})\n",
    "    except Exception as e:\n",
    "        return Output().add_as_json({\"code\":-1,\"msg\":e})\n",
    "\n",
    "\n",
    "\n",
    "#from djl_python import Input, Output\n",
    "#import os\n",
    "#import logging\n",
    "#import math\n",
    "#import deepspeed\n",
    "#import torch\n",
    "#import torch.distributed as dist\n",
    "#import sys\n",
    "#import subprocess\n",
    "#import time\n",
    "#import transformers\n",
    "#from transformers import pipeline, AutoModelForCausalLM, AutoTokenizer\n",
    "#from transformers.models.llama.tokenization_llama import LlamaTokenizer\n",
    "#\n",
    "#\n",
    "#print(\"transformers version==\"+transformers.__version__)\n",
    "#predictor = None\n",
    "#\n",
    "##for deepspeed engine\n",
    "#\n",
    "#def load_model(properties):\n",
    "#    tensor_parallel = properties[\"tensor_parallel_degree\"]\n",
    "#    model_location = properties['model_dir']\n",
    "#    if \"model_id\" in properties:\n",
    "#        model_location = properties['model_id']\n",
    "#    #logging.info(f\"Loading model in {model_location}\")\n",
    "#    \n",
    "#    print(\"----------tensor parallel is {0}---------\".format(tensor_parallel))\n",
    "#    #model_location=\"decapoda-research/llama-7b-hf\"\n",
    "#    logging.info(f\"Loading model in {model_location}\")\n",
    "#\n",
    "#    model = AutoModelForCausalLM.from_pretrained(model_location, torch_dtype=torch.float16)\n",
    "#    #tokenizer = LlamaTokenizer.from_pretrained(model_location)\n",
    "#    tokenizer = LlamaTokenizer.from_pretrained(model_location, torch_dtype=torch.float16)\n",
    "#\n",
    "#    print(\"----------model dtype is {0}---------\".format(model.dtype))\n",
    "#    model = deepspeed.init_inference(\n",
    "#        model,\n",
    "#        mp_size=tensor_parallel,\n",
    "#        #dtype=model.dtype,\n",
    "#        dtype=torch.half,\n",
    "#        #dtype=torch.int8,\n",
    "#        replace_method=\"auto\",\n",
    "#        replace_with_kernel_inject=True,\n",
    "#        #replace_method=\"auto\",\n",
    "#        #replace_with_kernel_inject=True,\n",
    "#    )\n",
    "#    \n",
    "#    local_rank = int(os.getenv(\"LOCAL_RANK\", \"0\"))\n",
    "#    generator = pipeline(\n",
    "#        task=\"text-generation\", model=model, tokenizer=tokenizer, device=local_rank\n",
    "#    )\n",
    "#    return generator, model, tokenizer\n",
    "#\n",
    "#'''\n",
    "#def load_model(properties):\n",
    "#    tensor_parallel = properties[\"tensor_parallel_degree\"]\n",
    "#    model_location = properties['model_dir']\n",
    "#    if \"model_id\" in properties:\n",
    "#        model_location = properties['model_id']\n",
    "#    #logging.info(f\"Loading model in {model_location}\")\n",
    "#    \n",
    "#    print(\"----------tensor parallel is {0}---------\".format(tensor_parallel))\n",
    "#    #model_location=\"decapoda-research/llama-7b-hf\"\n",
    "#    logging.info(f\"Loading model in {model_location}\")\n",
    "#\n",
    "#    model = AutoModelForCausalLM.from_pretrained(model_location, torch_dtype=torch.float16, device_map=\"balanced_low_0\")\n",
    "#    #tokenizer = LlamaTokenizer.from_pretrained(model_location)\n",
    "#    tokenizer = LlamaTokenizer.from_pretrained(model_location, torch_dtype=torch.float16)\n",
    "#\n",
    "#    print(\"----------model dtype is {0}---------\".format(model.dtype))\n",
    "#    generator = pipeline(\n",
    "#        task=\"text-generation\", model=model, tokenizer=tokenizer,\n",
    "#    )\n",
    "#    return generator, model, tokenizer\n",
    "#'''\n",
    "#\n",
    "#def handle(inputs: Input) -> None:\n",
    "#    global predictor, model, tokenizer\n",
    "#    try:\n",
    "#        if not predictor:\n",
    "#            predictor,model,tokenizer = load_model(inputs.get_properties())\n",
    "#\n",
    "#        print(inputs)\n",
    "#        if inputs.is_empty():\n",
    "#            # Model server makes an empty call to warmup the model on startup\n",
    "#            return None\n",
    "#        \n",
    "#        if inputs.is_batch():\n",
    "#            print(f\"Dynamic batching size: {inputs.get_batch_size()}.\")\n",
    "#            batch = inputs.get_batches()\n",
    "#            print(\"batch_size==\"+str(batch))\n",
    "#            tmp_inputs = []\n",
    "#            params = {}\n",
    "#            for _, item in enumerate(batch):\n",
    "#                tmp_item = item.get_as_json()\n",
    "#                tmp_inputs.append(tmp_item.get(\"input\"))\n",
    "#                ##use the unified parameters for batch prediction###\n",
    "#                params = tmp_item.get(\"parameters\",{})\n",
    "#            \n",
    "#            result = predictor(tmp_inputs,**params)\n",
    "#            outputs = Output()\n",
    "#            for i in range(len(result)):\n",
    "#                outputs.add(result[i], key=\"generate_text\", batch_index=i)\n",
    "#            return outputs\n",
    "#        else:\n",
    "#            inputs = inputs.get_as_json()\n",
    "#            if not inputs.get(\"input\"):\n",
    "#                return Output().add_as_json({\"code\":-1,\"msg\":\"input field can't be null\"})\n",
    "#\n",
    "#\n",
    "#            #input data\n",
    "#            data = inputs.get(\"input\")\n",
    "#            params = inputs.get(\"parameters\",{})\n",
    "#\n",
    "#            #predictor\n",
    "#            result = predictor(data, **params)\n",
    "#\n",
    "#            #return\n",
    "#            return Output().add({\"code\":0,\"msg\":\"ok\",\"data\":result})\n",
    "#    except Exception as e:\n",
    "#        return Output().add_as_json({\"code\":-1,\"msg\":e})\n",
    "#"
   ]
  },
  {
   "cell_type": "code",
   "execution_count": null,
   "id": "87923cef-0632-4d8a-b792-4627bf3a0203",
   "metadata": {
    "tags": []
   },
   "outputs": [],
   "source": [
    "%%writefile deepspeed_src/requirements.txt\n",
    "protobuf==3.20\n",
    "#accelerate=>0.17.0"
   ]
  },
  {
   "cell_type": "code",
   "execution_count": null,
   "id": "1bbdefb3",
   "metadata": {
    "tags": []
   },
   "outputs": [],
   "source": [
    "# we plug in the appropriate model location into our `serving.properties` file based on the region in which this notebook is running\n",
    "template = jinja_env.from_string(Path(\"deepspeed_src/serving.template\").open().read())\n",
    "Path(\"deepspeed_src/serving.properties\").open(\"w\").write(template.render(s3url=pretrained_model_location))\n",
    "!pygmentize accelerate_src/serving.properties | cat -n"
   ]
  },
  {
   "attachments": {},
   "cell_type": "markdown",
   "id": "e46cffa8",
   "metadata": {},
   "source": [
    "There are a few options specified here. Lets go through them in turn<br>\n",
    "1. `engine` - specifies the engine that will be used for this workload. In this case we'll be hosting a model using the [DJL Python Engine](https://github.com/deepjavalibrary/djl-serving/tree/master/engines/python)\n",
    "2. `option.entryPoint` - specifies the entrypoint code that will be used to host the model. djl_python.huggingface refers to the `huggingface.py` module from [djl_python repo](https://github.com/deepjavalibrary/djl-serving/tree/master/engines/python/setup/djl_python).  \n",
    "3. `option.s3url` - specifies the location of the model files. Alternativelly an `option.model_id` option can be used instead to specifiy a model from Hugging Face Hub (e.g. `EleutherAI/gpt-j-6B`) and the model will be automatically downloaded from the Hub. The s3url approach is recommended as it allows you to host the model artifact within your own environment and enables faster deployments by utilizing optimized approach within the DJL inference container to transfer the model from S3 into the hosting instance \n",
    "4. `option.task` - This is specific to the `huggingface.py` inference handler and specifies for which task this model will be used\n",
    "5. `option.device_map` - Enables layer-wise model partitioning through [Hugging Face Accelerate](https://huggingface.co/docs/accelerate/usage_guides/big_modeling#designing-a-device-map). With `option.device_map=auto`, Accelerate will determine where to put each **layer** to maximize the use of your fastest devices (GPUs) and offload the rest on the CPU, or even the hard drive if you don’t have enough GPU RAM (or CPU RAM). Even if the model is split across several devices, it will run as you would normally expect.\n",
    "6. `option.load_in_8bit` - Quantizes the model weights to int8 thereby greatly reducing the memory footprint of the model from the initial FP32. See this [blog post](https://huggingface.co/blog/hf-bitsandbytes-integration) from Hugging Face for additional information \n",
    "\n",
    "For more information on the available options, please refer to the [SageMaker Large Model Inference Documentation](https://docs.aws.amazon.com/sagemaker/latest/dg/realtime-endpoints-large-model-configuration.html)\n",
    "\n",
    "Our initial approach here is to utilize the built-in functionality within Hugging Face Transformers to enable Large Language Model hosting. "
   ]
  },
  {
   "attachments": {},
   "cell_type": "markdown",
   "id": "d156470a",
   "metadata": {},
   "source": [
    "We place the `serving.properties` file into a tarball and upload it to S3"
   ]
  },
  {
   "cell_type": "code",
   "execution_count": null,
   "id": "12371518",
   "metadata": {
    "tags": []
   },
   "outputs": [],
   "source": [
    "!tar czvf acc_model.tar.gz deepspeed_src/ "
   ]
  },
  {
   "cell_type": "code",
   "execution_count": null,
   "id": "3098668f",
   "metadata": {
    "tags": []
   },
   "outputs": [],
   "source": [
    "s3_code_prefix = \"llama/deploy/code\"\n",
    "\n",
    "code_artifact = sess.upload_data(\"acc_model.tar.gz\", bucket, s3_code_prefix)\n",
    "print(f\"S3 Code or Model tar ball uploaded to --- > {code_artifact}\")"
   ]
  },
  {
   "attachments": {},
   "cell_type": "markdown",
   "id": "e0807c58",
   "metadata": {},
   "source": [
    "## Deploy Model to a SageMaker Endpoint\n",
    "With a helper function we can now deploy our endpoint and invoke it with some sample inputs"
   ]
  },
  {
   "cell_type": "code",
   "execution_count": null,
   "id": "ccb25eff-af72-4e51-8d83-9190c2d80279",
   "metadata": {
    "tags": []
   },
   "outputs": [],
   "source": [
    "from sagemaker.utils import name_from_base\n",
    "\n",
    "model_name = name_from_base(f\"vicuna-7B\")\n",
    "\n",
    "create_model_response = sm_client.create_model(\n",
    "    ModelName=model_name,\n",
    "    ExecutionRoleArn=role,\n",
    "    PrimaryContainer={\n",
    "        \"Image\": inference_image_uri,\n",
    "        \"ModelDataUrl\": code_artifact\n",
    "    }\n",
    ")\n",
    "model_arn = create_model_response[\"ModelArn\"]\n",
    "print(model_arn)\n",
    "\n",
    "endpoint_config_name = f\"{model_name}-config\"\n",
    "endpoint_name = f\"{model_name}-endpoint\"\n",
    "\n",
    "endpoint_config_response = sm_client.create_endpoint_config(\n",
    "    EndpointConfigName=endpoint_config_name,\n",
    "    ProductionVariants=[\n",
    "        {\n",
    "            \"VariantName\": \"variant1\",\n",
    "            \"ModelName\": model_name,\n",
    "            \"InstanceType\": \"ml.g5.12xlarge\",\n",
    "            \"InitialInstanceCount\": 1,\n",
    "        }\n",
    "    ]\n",
    ")\n",
    "print(endpoint_config_response)\n",
    "\n",
    "create_endpoint_response = sm_client.create_endpoint(\n",
    "    EndpointName=f\"{endpoint_name}\", EndpointConfigName=endpoint_config_name\n",
    ")\n",
    "print(create_endpoint_response)"
   ]
  },
  {
   "attachments": {},
   "cell_type": "markdown",
   "id": "b3c19a0c",
   "metadata": {},
   "source": [
    "Let's run an example with a basic text generation prompt Large model inference is"
   ]
  },
  {
   "cell_type": "code",
   "execution_count": null,
   "id": "1bb09c60-9259-4382-bf44-5ac9e28d28b5",
   "metadata": {
    "tags": []
   },
   "outputs": [],
   "source": [
    "from dotenv import load_dotenv\n",
    "load_dotenv(override=True)\n",
    "import boto3\n",
    "import json\n",
    "runtime = boto3.client('runtime.sagemaker')\n",
    "from joblib import Parallel, delayed\n",
    "\n",
    "prompt_a = f\"\"\"You are an AI shopping assistant for e-commerce company AAA.\\nUser is asking a product exploration question (delimited by |||), we already found related products provided as context (delimited by [[]].\\n|||I want to eat hotpot, could you recommend products for hotpot. It would be nice if the products covers all types of hotpot items and total price exceed the free shipping threshold.|||\\n=========\\n[[yumei dongbei style hot pot,\\nchinese,\\ninstant food,\\nconvenience entree,\\nself-heating hotpot,\\n\\n\\ndoc\\'s choice sea scallops diamond grade,\\nmainstream,\\nseafood,\\nshellfish,\\nscallops,\\nhot pot,\\n\\njidori whole chicken free range,\\nmainstream,\\nmeat,\\npoultry,\\nchicken whole,\\n\\n\\nbest premium fish tofu, frozen,\\nchinese,\\nfrozen,\\nfrz processed seafood,\\nfrz processed seafood w/o filling,\\n\"hot pot, spicy hot pot, spicy and fragrant pot, hotpot,\\n\\nsliced beef plate for hot pot, frozen,\\nmainstream,\\nmeat,\\nbeef,\\nbeef sliced,\\ntea cup, spoon,\\n\\nseafood mushroom,\\nkorean,\\nvegetables,\\nmushrooms,\\nshimeji mushroom,\\nbuna shimejibest seller, popular products under mushrooms., best seller, popular products under korean vegetables.\\n\\nguangming peanut nougat ice cream 5pcs,\\nchinese,\\nfrozen,\\nfrz ice cream,\\nfrz ice cream bar,\\n\"hot pot, spicy hot pot, mala hot pot, hotpot,\\n\\nevergreen food snakehead fish slices,\\nchinese,\\nseafood,\\nfish fillets & steaks,\\nhotpot fish fillet,\\nhotpot, sour cabbage fish, water-boiled fish, water-best seller, popular products under fish fillets & steaks.,\\n\\ngreat american tilapia fillets, frozen,\\nchinese,\\nseafood,\\nfish fillets & steaks,\\ntilapia fillet,\\n\"hot pot, fish hot pot\",\\n\\nfatty beef rolled slices usda choice, family size,\\nchinese,\\nmeat,\\nbeef,\\nbeef sliced,\\ngift box, hot pot, beef, barbecue, shou xiguo,]]\\n=========\\nPlease comment on user’s question based on products we chose to persuade a purchase in no more than 40 words.\\nAnswer:\n",
    "\"\"\"\n",
    "print(\"prompt_a==\"+str(len(prompt_a)))\n",
    "\n",
    "prompt_b = f\"\"\"\n",
    "You are an AI shopping assistant expert for e-commerce company AAA.\\nUser is asking a product exploration question (delimited by |||), we already found related products provided as context (delimited by [[]].\\n|||navigate to Zion|||\\n=========\\n[[israel sharon fruit, 12-14ct gift box,\\nchinese,\\nfruits,\\npersimmons,\\nfuyu,\\n\\n\\nairborne vitamin c with zinc effervescent tablets 27 tablets,\\nmainstream,\\nhealth,\\ndietary supplements,\\n,\\nvitamin c, zinc, tablets, boil water,\\n\\ntotino's cheese flavored pizza rolls,\\nmainstream,\\nfrozen,\\nfrz ready to eat others,\\nfrz ready to eat s,\\n\\n\\nsanzo linsanity limited edition sparkling water, asian pear flavor,\\nmainstream,\\nbeverage,\\nsoft drinks,\\nflavored,\\n, best seller, popular products under mainstream beverage.\\n\\nj-basket jumbo takoyaki 18pcs, frozen,\\njapanese,\\nfrozen,\\nfrz rte seafood,\\nfrz rte  seafood s,\\ntakoyaki, takoyakibest seller, popular products under frz rte seafood.,\\n\\nsunset tomatoes gourmet medley,\\nmainstream,\\nvegetables,\\ntomatoes,\\ncherry tomatoes,\\n\\n\\ndaiichi hotel bread 6pcs,\\njapanese,\\nfrozen,\\nfrz bread,\\nfrz bread,\\ntoast, bread, breadbest seller, popular products under frz bread.,\\n\\nwoodstock farms organic raw almonds,\\nmainstream,\\nsnacks,\\nnuts / seeds,\\nalmonds,\\n\\n\\ngranny smith apples,\\nmainstream,\\nfruits,\\napples,\\namerican apple,\\n\\n\\nfujiya home pie,\\njapanese,\\nsnacks,\\ncookies,\\ncookies,\\n]]\\n=========\\nPlease comment on user’s question based on products we chose to persuade a purchase in no more than 40 words.\\nAnswer:\n",
    "\"\"\"\n",
    "print(\"prompt_b==\"+str(len(prompt_b)))\n",
    "\n",
    "prompts = [prompt_a, prompt_b]\n",
    "\n",
    "\n",
    "def call_endpoint(prompt):\n",
    "    input = {\"inputs\": prompt, \"parameters\": {\"temperature\": 0, \"max_new_tokens\": 100,\n",
    "                                              \"return_full_text\": False}}\n",
    "    input = json.dumps(input).encode('utf-8')\n",
    "\n",
    "    response = runtime.invoke_endpoint(EndpointName=\"vicuna-7B-2023-07-09-08-33-12-402-endpoint\",\n",
    "                                       ContentType='application/json',\n",
    "                                       Accept='application/json',\n",
    "                                       Body=input)\n",
    "    results = json.loads(response['Body'].read().decode())\n",
    "    print(results)\n",
    "\n",
    "\n",
    "results = Parallel(n_jobs=10, prefer='threads', verbose=1, )(\n",
    "    delayed(call_endpoint)(prompt)\n",
    "    for prompt in prompts\n",
    ")"
   ]
  },
  {
   "cell_type": "code",
   "execution_count": null,
   "id": "a2da0c7d",
   "metadata": {},
   "outputs": [],
   "source": [
    "# Clean up the endpoint before proceeding\n",
    "predictor.delete_endpoint()"
   ]
  },
  {
   "attachments": {},
   "cell_type": "markdown",
   "id": "7377c84c",
   "metadata": {},
   "source": [
    "## Reference"
   ]
  },
  {
   "attachments": {},
   "cell_type": "markdown",
   "id": "d1a842b9",
   "metadata": {},
   "source": [
    "[sagemaker-hosting/Large-Language-Model-Hosting/](https://github.com/aws-samples/sagemaker-hosting/tree/main/Large-Language-Model-Hosting)"
   ]
  }
 ],
 "metadata": {
  "kernelspec": {
   "display_name": "conda_pytorch_p39",
   "language": "python",
   "name": "conda_pytorch_p39"
  },
  "language_info": {
   "codemirror_mode": {
    "name": "ipython",
    "version": 3
   },
   "file_extension": ".py",
   "mimetype": "text/x-python",
   "name": "python",
   "nbconvert_exporter": "python",
   "pygments_lexer": "ipython3",
   "version": "3.9.15"
  }
 },
 "nbformat": 4,
 "nbformat_minor": 5
}
